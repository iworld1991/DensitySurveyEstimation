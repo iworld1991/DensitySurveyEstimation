{
 "cells": [
  {
   "cell_type": "markdown",
   "metadata": {},
   "source": [
    "### Parametric Estimation of Bin-based Density Forecast in Surveys \n",
    "\n",
    "- Following [Manski et al.(2009)](https://www.tandfonline.com/doi/abs/10.1198/jbes.2009.0003)\n",
    "- Three cases \n",
    "   \n",
    "   - case 1. 3+ intervals with positive probabilities, or 2 intervals with positive probabilities but open-ended from either end, to be fitted with a generalized beta distribution\n",
    "   - case 2. exactly 2 adjacent and close-ended bins positive probabilities, to be fitted with a triangle distribution \n",
    "   - case 3. __one or multiple__ adjacent intervals with equal probabilities, to be fitted with a uniform distribution\n",
    "   - cases excluded for now:\n",
    "     - nonadjacent bins with positive probabilities with bins with zero probs in between \n",
    "     -  only one bin with positive probabilities at either end \n",
    "   "
   ]
  },
  {
   "cell_type": "code",
   "execution_count": 1,
   "metadata": {},
   "outputs": [],
   "source": [
    "from scipy.stats import beta\n",
    "from scipy.stats import triang # new\n",
    "from scipy.stats import uniform # new\n",
    "from scipy.optimize import minimize\n",
    "import numpy as np\n",
    "import matplotlib.pyplot as plt"
   ]
  },
  {
   "cell_type": "code",
   "execution_count": 2,
   "metadata": {
    "code_folding": [
     1
    ]
   },
   "outputs": [],
   "source": [
    "# We need that for the 90-10 ratio:\n",
    "def quantile(x,quantiles):\n",
    "    xsorted = sorted(x)\n",
    "    qvalues = [xsorted[int(q * len(xsorted))] for q in quantiles]\n",
    "    return qvalues"
   ]
  },
  {
   "cell_type": "markdown",
   "metadata": {},
   "source": [
    "### Case 1. Generalized Beta Distribution"
   ]
  },
  {
   "cell_type": "code",
   "execution_count": 10,
   "metadata": {
    "code_folding": [
     0
    ]
   },
   "outputs": [],
   "source": [
    "def GeneralizedBetaEst(bin,probs):\n",
    "    \"\"\"\n",
    "    This fits a histogram with positive probabilities in at least 3 bins to a generalized beta distribution.\n",
    "    Depending on if there is open-ended bin on either side with positive probability, \n",
    "       the estimator decides to estimate 2 or 4 parameters, respectively. \n",
    "       \n",
    "    parameters\n",
    "    ---------\n",
    "    bin:  ndarray, (n+1) x 1 \n",
    "          positions for n bins in the histograms \n",
    "          \n",
    "    probs:  ndarrray n x 1\n",
    "          each entry is a probability for each of the n bins given by the surveyee, between 0 and 1\n",
    "                 \n",
    "    returns\n",
    "    -------\n",
    "    moments:  ndarray of 2 or 4  \n",
    "              2:  alpha and beta \n",
    "              4:  alpha, beta, lb, ub, e.g. lb=0 and ub=1 for a standard beta distribution\n",
    "    \"\"\"\n",
    "    # n+1 bins and n probs, both are arrays\n",
    "    if sum([probs[i]>0 for i in range(len(bin)-1)])<2:\n",
    "        print(\"Warning: at least two bins with positive probs are needed\")\n",
    "        para_est=[]\n",
    "\n",
    "    else:\n",
    "        ## cdf used for estimation later \n",
    "        cdf = np.cumsum(probs)\n",
    "        \n",
    "        ## location and number of positive prob bins for checking patterns \n",
    "        pprob=[i for i in range(len(bin)-1) if probs[i]>0]\n",
    "        lb=bin[min(pprob)]\n",
    "        print(\"lower bound is \"+str(lb))\n",
    "        ub=bin[max(pprob)+1]\n",
    "        print(\"upper bound is \"+str(ub))\n",
    "        \n",
    "        ## initial guess and objective function \n",
    "        x0_2para = (2,1)\n",
    "        x0_4para = (2,1,0,1) \n",
    "        def distance2para(paras2): # if there is no open-ended bin with positive probs \n",
    "            a,b=paras2\n",
    "            distance= sum((beta.cdf(bin[1:],a,b,loc=lb,scale=ub-lb)-cdf)**2)\n",
    "            return distance\n",
    "        def distance4para(paras4): # if either on the left or right side one open-ended bin is with positive probs\n",
    "            a,b,lb,ub=paras4\n",
    "            distance= sum((beta.cdf(bin[1:],a,b,loc=lb,scale=ub-lb)-cdf)**2)\n",
    "            return distance\n",
    "        \n",
    "        ## decide how many parameters\n",
    "        if lb==bin[0] or ub==bin[-1]:\n",
    "            print('4-parameter beta')\n",
    "            result = minimize(distance4para,\n",
    "                              x0_4para,\n",
    "                              method='CG')\n",
    "            if result['success']:\n",
    "                para_est = result['x']\n",
    "            else:\n",
    "                ## try one more time with alternative algorithms \n",
    "                result = minimize(distance4para,\n",
    "                              x0_4para,\n",
    "                              method='BFGS')\n",
    "                if result['success']:\n",
    "                    para_est = result['x']\n",
    "                else:\n",
    "                    para_est = []\n",
    "\n",
    "        else:\n",
    "            print('2-parameter beta')\n",
    "            result = minimize(distance2para,\n",
    "                              x0_2para,\n",
    "                                method='CG')\n",
    "            if result['success']:\n",
    "                para_est = result['x']\n",
    "                para_est = np.concatenate([para_est,\n",
    "                                          np.array([lb,ub])])\n",
    "            else:\n",
    "                ## try one more time with alternative algorithms \n",
    "                result = minimize(distance2para,\n",
    "                              x0_2para,\n",
    "                                method='BFGS')\n",
    "                if result['success']:\n",
    "                    para_est = result['x']\n",
    "                    para_est = np.concatenate([para_est,\n",
    "                                          np.array([lb,ub])])\n",
    "                else:\n",
    "                    para_est = []\n",
    "        return para_est   # could be 2 or 4 parameters "
   ]
  },
  {
   "cell_type": "code",
   "execution_count": 11,
   "metadata": {
    "code_folding": [
     0
    ]
   },
   "outputs": [],
   "source": [
    "def GeneralizedBetaStats(a,b,lb,ub):\n",
    "    \"\"\"\n",
    "    This function computes the moments of a generalized beta distribution, mean and variance for now. \n",
    "    \n",
    "    parameters\n",
    "    ----------\n",
    "    a, b, lb, ub: floats #changed to a,b instead of alpha and beta\n",
    "    \n",
    "    returns\n",
    "    -------\n",
    "    dict:  2 keys\n",
    "           mean, float \n",
    "           variance, float\n",
    "           standard deviation, float\n",
    "           ratio 90 10, float\n",
    "    \"\"\"\n",
    "    # lb=0 and ub=1 for a standard beta distribution\n",
    "    #mean = lb + (ub-lb)*a/(a+b)\n",
    "    #var = (ub-lb)**2*a*b/((a+b)**2*(a+b+1))\n",
    "    mean, var, skew, kurt = beta.stats(a, \n",
    "                                       b, \n",
    "                                       loc=lb, \n",
    "                                       scale=ub-lb, \n",
    "                                       moments='mvsk')\n",
    "    std = np.sqrt(var)\n",
    "    # ratio\n",
    "    x = np.linspace(beta.ppf(0.01, a, b), beta.ppf(0.99, a, b), 100)\n",
    "    quantiles = quantile(x,[0.1, 0.9])\n",
    "    iqr1090 = quantiles[1]-quantiles[0]\n",
    "    return {\"mean\": mean,\n",
    "            \"variance\":var, \n",
    "            \"std\": std, \n",
    "            \"iqr1090\": iqr1090,\n",
    "            \"skewness\":skew,\n",
    "            \"kurtosis\":kurt}"
   ]
  },
  {
   "cell_type": "code",
   "execution_count": 13,
   "metadata": {
    "code_folding": []
   },
   "outputs": [
    {
     "name": "stdout",
     "output_type": "stream",
     "text": [
      "lower bound is 2.0\n",
      "upper bound is 3.5\n",
      "2-parameter beta\n",
      "[1.28386678 1.72256612 2.         3.5       ]\n",
      "{'mean': array(2.64055984), 'variance': array(0.13740973), 'std': 0.37068818012062416, 'iqr1090': 0.748726168168818, 'skewness': array(0.2358846), 'kurtosis': array(-0.92936217)}\n"
     ]
    },
    {
     "data": {
      "image/png": "[encoded data removed]",
      "text/plain": [
       "<Figure size 432x288 with 1 Axes>"
      ]
     },
     "metadata": {
      "needs_background": "light"
     },
     "output_type": "display_data"
    }
   ],
   "source": [
    "if __name__ == \"__main__\":\n",
    "    \n",
    "    ## test 1: GenBeta Dist\n",
    "    sim_bins = np.array([-10,0,0.5,1,1.5,2,2.5,3,3.5,4,10])\n",
    "    sim_probs = np.array([0, 0, 0,  0,  0,  0.4, 0.4, 0.2, 0,  0, ])\n",
    "    #sim_bins= np.array([-2,0.3,0.6,0.9,1.2,2])\n",
    "    #sim_probs= np.array([0.0,0.1,0.5,0.4,0.0])\n",
    "    ## plot\n",
    "    plt.bar(sim_bins[1:],sim_probs,width=0.2)\n",
    "    ## estimate\n",
    "    para_est = GeneralizedBetaEst(sim_bins,sim_probs)\n",
    "    print(para_est)\n",
    "    if len(para_est) != 0:\n",
    "        print(GeneralizedBetaStats(para_est[0],\n",
    "                            para_est[1],\n",
    "                            para_est[2],\n",
    "                             para_est[3]))\n",
    "    else:\n",
    "        print('no estimation')"
   ]
  },
  {
   "cell_type": "markdown",
   "metadata": {},
   "source": [
    "### Case 2. Isosceles Triangle distribution\n",
    "\n",
    "Two adjacent intervals $[a,b]$,$[b,c]$ are assigned probs $\\alpha$ and $1-\\alpha$, respectively. In the case of $\\alpha<1/2$, we need to solve parameter $t$ such that $[b-t,c]$ is the interval of the distribution. Denote the height of the triangle distribution $h$. Then following two restrictions need to satisfy\n",
    "\n",
    "\\begin{eqnarray}\n",
    "\\frac{t^2}{t+c-b} h = \\alpha \\\\\n",
    "(t+(c-b))h = 2\n",
    "\\end{eqnarray}\n",
    "\n",
    "The two equations can solve $t$ and $h$\n",
    "\n",
    "$$\\frac{t^2}{(t+c-b)^2}=\\alpha$$\n",
    "\n",
    "$$t^2 = \\alpha t^2 + 2\\alpha t(c-b) + \\alpha(c-b)^2$$\n",
    "\n",
    "$$(1-\\alpha) t^2 - 2\\alpha(c-b) t - \\alpha(c-b)^2=0$$\n",
    "\n",
    "$$\\implies t =\\frac{2\\alpha(c-b)+\\sqrt{4\\alpha^2(c-b)^2+4(1-\\alpha)\\alpha(c-b)^2}}{2(1-\\alpha)} = \\frac{\\alpha(c-b)+(c-b)\\sqrt{\\alpha}}{(1-\\alpha)}$$\n",
    "\n",
    "$$\\implies h = \\frac{2}{t+c-b}$$\n",
    "\n",
    "Rearrange to solve for c:\n",
    "$$ \\implies c = (t - b) - \\frac{2}{h} $$\n",
    "$$ \\implies c = ub - \\frac{2}{h} $$"
   ]
  },
  {
   "cell_type": "code",
   "execution_count": 14,
   "metadata": {
    "code_folding": [
     0
    ]
   },
   "outputs": [],
   "source": [
    "def TriangleEst(bin,probs):\n",
    "    \"\"\"\n",
    "    The function fits histograms with exactly two adjacent \n",
    "       bins with positive probability to a triangular distribution.\n",
    "    It generates the bounds of the isosceles triangle distribution.\n",
    "    \n",
    "    parameters\n",
    "    ---------\n",
    "    bin:  ndarray, (n+1) x 1 \n",
    "          positions for n bins in the histograms \n",
    "          \n",
    "    probs:  ndarrray n x 1\n",
    "          each entry is a probability for each of the n bins given by the surveyee, between 0 and 1\n",
    "    \n",
    "    returns\n",
    "    --------\n",
    "    dict: 3 keys\n",
    "          lb: float, left bound \n",
    "          ub: float, right bound\n",
    "          h:  float, height of the triangle\n",
    "          c: float, mode\n",
    "    \n",
    "    \"\"\"\n",
    "    if sum([probs[i]>0 for i in range(len(bin)-1)])==2:\n",
    "        print(\"There are two bins with positive probs\")\n",
    "        pprobadj = [i for i in range(1,len(bin)-3) if probs[i]>0 and probs[i+1]>0]   # from 1 to -3 bcz excluding the open-ended on the left/right\n",
    "        if sum(pprobadj)>0:\n",
    "            print('The two intervals are adjacent and not open-ended')\n",
    "            min_i = min(pprobadj)\n",
    "            #print(min_i)\n",
    "            #print(probs[min_i])\n",
    "            #print(probs[min_i+1])\n",
    "            #print(pprobadj[0])\n",
    "            #print(pprobadj[0]+2)\n",
    "            #print(probs[min_i] > probs[min_i+1])\n",
    "            #print(bin[pprobadj[0]])\n",
    "            #print(bin[pprobadj[0]+2])\n",
    "            if probs[min_i] > probs[min_i+1]:\n",
    "                alf = probs[min_i+1]\n",
    "                lb = bin[pprobadj[0]]\n",
    "                scl = bin[pprobadj[0]+1]-bin[pprobadj[0]]\n",
    "                t = scl*(alf/(1-alf) +np.sqrt(alf)/(1-alf))\n",
    "                ub = bin[pprobadj[0]+1]+t \n",
    "                h = 2/(t+bin[pprobadj[0]+1]-bin[pprobadj[0]])\n",
    "                c = ub - 2/h\n",
    "            if probs[min_i] < probs[min_i+1]:\n",
    "                alf = probs[min_i]\n",
    "                ub = bin[pprobadj[0]+2]\n",
    "                scl = bin[pprobadj[0]+2]-bin[pprobadj[0]+1]\n",
    "                t = scl*(alf/(1-alf) + np.sqrt(alf)/(1-alf))\n",
    "                lb = bin[pprobadj[0]+1]-t  \n",
    "                h = 2/(t+bin[pprobadj[0]+2]-bin[pprobadj[0]+1])\n",
    "                c = ub - 2/h\n",
    "            if probs[min_i] == probs[min_i+1]:\n",
    "                ub=bin[pprobadj[0]]\n",
    "                lb=bin[pprobadj[0]+2]\n",
    "                h = 2/(ub-lb)\n",
    "                c = ub - 2/h\n",
    "        else:\n",
    "            lb = np.nan\n",
    "            ub = np.nan\n",
    "            h = np.nan\n",
    "            c = np.nan\n",
    "            print('Warning: the two intervals are not adjacent or are open-ended')\n",
    "    return {'lb':lb,'ub':ub,\"height\":h,\"mode\":c}"
   ]
  },
  {
   "cell_type": "markdown",
   "metadata": {},
   "source": [
    "#### pdf of a triangle distribution\n",
    "\n",
    "\\begin{eqnarray}\n",
    "f(x)= & 1/2(x-lb) \\frac{x-lb}{(ub+lb)/2}h \\quad \\text{if } x <(lb+ub)/2 \\\\\n",
    "& = 1/2(ub-x) \\frac{ub-x}{(ub+lb)/2}h \\quad \\text{if } x \\geq(lb+ub)/2\n",
    "\\end{eqnarray}\n",
    "\n",
    "\\begin{eqnarray}\n",
    "& Var(x) & = \\int^{ub}_{lb} (x-(lb+ub)/2)^2 f(x) dx \\\\\n",
    "& & = 2 \\int^{(ub+lb)/2}_{lb} (x-(lb+ub)/2)^2 (x-lb) \\frac{x-lb}{(ub+lb)/2}h dx\n",
    "\\end{eqnarray}\n",
    "\n"
   ]
  },
  {
   "cell_type": "code",
   "execution_count": 15,
   "metadata": {
    "code_folding": []
   },
   "outputs": [],
   "source": [
    "def TriangleStats(lb,ub,c):\n",
    "    \"\"\"\n",
    "    parameters\n",
    "    ----------\n",
    "    lb and ub:  float, left and right bounds of the triangle distribution\n",
    "    c : float, mode\n",
    "    \n",
    "    returns\n",
    "    -------\n",
    "    dict:  2 keys for now\n",
    "           mean: estimated mean\n",
    "           variance: estimated variance\n",
    "           std, float \n",
    "           irq1090, float  \n",
    "    \"\"\"\n",
    "    \n",
    "    mean = (lb+ub)/2\n",
    "    var = (lb**2+ub**2+(lb+ub)**2/4-lb*(lb+ub)/2-ub*(lb+ub)/2-lb*ub)/18\n",
    "    std = np.sqrt(var)\n",
    "    skew = 0\n",
    "    kurt = -3/5\n",
    "    x = np.linspace(triang.ppf(0.01, c, lb, ub), triang.ppf(0.99, c, lb, ub), 100)\n",
    "    quantiles = quantile(x,[0.1, 0.9])\n",
    "    iqr1090 = quantiles[1]-quantiles[0]\n",
    "    return {\"mean\": mean,\n",
    "            \"variance\":var, \n",
    "            \"std\": std, \n",
    "            \"iqr1090\": iqr1090,\n",
    "           'skewness':skew,\n",
    "            'kurtosis':kurt}"
   ]
  },
  {
   "cell_type": "code",
   "execution_count": 16,
   "metadata": {
    "code_folding": []
   },
   "outputs": [
    {
     "name": "stdout",
     "output_type": "stream",
     "text": [
      "There are two bins with positive probs\n",
      "The two intervals are adjacent and not open-ended\n",
      "{'lb': 0.010263340389897235, 'ub': 0.5, 'height': 4.083827421848046, 'mode': 0.010263340389897235}\n"
     ]
    },
    {
     "data": {
      "image/png": "[encoded data removed]",
      "text/plain": [
       "<Figure size 432x288 with 1 Axes>"
      ]
     },
     "metadata": {
      "needs_background": "light"
     },
     "output_type": "display_data"
    }
   ],
   "source": [
    "if __name__ == \"__main__\":\n",
    "    ## test 2: Triangle Dist\n",
    "    \n",
    "    sim_bins2 = np.array([0,0.2,0.32,0.5,1,1.2])\n",
    "    sim_probs2=np.array([0.0,0.4,0.6,0.0,0])\n",
    "    ## plot\n",
    "    plt.bar(sim_bins2[1:],sim_probs2,width=0.2)\n",
    "    ## estimation \n",
    "    para_est = TriangleEst(sim_bins2,sim_probs2)\n",
    "    print(para_est)\n",
    "    TriangleStats(para_est['lb'],\n",
    "                  para_est['ub'], \n",
    "                  para_est['mode'])"
   ]
  },
  {
   "cell_type": "markdown",
   "metadata": {},
   "source": [
    "### Case 3. Uniform Distribution"
   ]
  },
  {
   "cell_type": "code",
   "execution_count": 17,
   "metadata": {
    "code_folding": [
     0
    ]
   },
   "outputs": [],
   "source": [
    "def UniformEst(bins,probs):\n",
    "    \"\"\"\n",
    "    This function fits a histogram with only one bin of positive probability to a uniform distribution.\n",
    "    \n",
    "    parameters\n",
    "    ---------\n",
    "    bins:  ndarray, (n+1) x 1 \n",
    "          positions for n bins in the histograms \n",
    "          \n",
    "    probs:  ndarrray n x 1\n",
    "          each entry is a probability for each of the n bins given by the surveyee, between 0 and 1\n",
    "    \n",
    "    returns\n",
    "    --------\n",
    "    dict: 2 keys\n",
    "          lb and ub, float. the left and right bounds of the uniform distribution\n",
    "    \"\"\"    \n",
    "    # find non zero positions\n",
    "    pos_entry = np.argwhere(probs!=0)\n",
    "    pos_bins = [bins[i] for i in pos_entry]\n",
    "    pos_bins = np.hstack(pos_bins)   # clean    \n",
    "\n",
    "    ## no pos_bins if non-adjacent bins have empty ones in between\n",
    "    if len(pos_entry)>1:\n",
    "        for i in range(len(pos_entry)-1) :\n",
    "            if pos_entry[i+1] - pos_entry[i] !=1:\n",
    "                pos_bins = [] \n",
    "               \n",
    "    if len(pos_bins)==1:\n",
    "        print('length pos bins is 1')\n",
    "        lb = bins[pos_entry[0]]\n",
    "        lb = lb[0] # into float\n",
    "        ub = bins[pos_entry[0] + 1]\n",
    "        ub = ub[0] # into float\n",
    "    elif len(pos_bins)>1:\n",
    "        print('length of pos bins is > 1')\n",
    "        lb = bins[pos_entry[0]]\n",
    "        lb = lb[0] # into float\n",
    "        ub = bins[pos_entry[0] + len(pos_bins)] \n",
    "        ub = ub[0] # into float\n",
    "    elif len(pos_bins)==0:\n",
    "        lb=np.nan\n",
    "        ub=np.nan\n",
    "\n",
    "    return {\"lb\":lb,\"ub\":ub}"
   ]
  },
  {
   "cell_type": "code",
   "execution_count": 18,
   "metadata": {
    "code_folding": [
     0
    ]
   },
   "outputs": [],
   "source": [
    "def UniformStats(lb,ub):\n",
    "    \"\"\"\n",
    "    The function computes the moment of a uniform distribution.\n",
    "    \n",
    "    parameters\n",
    "    ----------\n",
    "    lb and ub, floats, left and right bounds of uniform distribution\n",
    "    \n",
    "    returns\n",
    "    --------\n",
    "    dict:  2 keys for now\n",
    "           mean: estimated mean\n",
    "           variance: estimated variance \n",
    "           std, float \n",
    "           irq1090, float  \n",
    "    \"\"\"\n",
    "    \n",
    "    if lb is not np.nan and ub is not np.nan: \n",
    "        mean = (lb+ub)/2\n",
    "        var = (ub-lb)**2/12\n",
    "        std = np.sqrt(var)\n",
    "        x = np.linspace(uniform.ppf(lb),uniform.ppf(ub), 100)\n",
    "        p10 = np.percentile(x, 10)\n",
    "        p90 = np.percentile(x, 90)\n",
    "        iqr1090 = p90-p10\n",
    "        skew = 0\n",
    "        kurt = -5/6\n",
    "    else:\n",
    "        mean=np.nan\n",
    "        var=np.nan\n",
    "        std = np.nan\n",
    "        iqr1090 = np.nan\n",
    "        skew = np.nan\n",
    "        kurt = np.nan\n",
    "    return {\"mean\": mean,\n",
    "            \"variance\":var, \n",
    "            \"std\": std, \n",
    "            \"iqr1090\": iqr1090,\n",
    "            \"skewness\":skew,\n",
    "            \"kurtosis\":kurt}"
   ]
  },
  {
   "cell_type": "code",
   "execution_count": 19,
   "metadata": {
    "code_folding": [
     0
    ]
   },
   "outputs": [
    {
     "name": "stdout",
     "output_type": "stream",
     "text": [
      "length pos bins is 1\n",
      "{'lb': 0.32, 'ub': 0.5}\n"
     ]
    },
    {
     "data": {
      "image/png": "[encoded data removed]",
      "text/plain": [
       "<Figure size 432x288 with 1 Axes>"
      ]
     },
     "metadata": {
      "needs_background": "light"
     },
     "output_type": "display_data"
    }
   ],
   "source": [
    "if __name__ == \"__main__\":\n",
    "    ## test 3: Uniform Dist with one interval\n",
    "    sim_bins3 = np.array([0,0.2,0.32,0.5,1,1.2])\n",
    "    sim_probs3 = np.array([0,0,1,0,0])\n",
    "    ## plot\n",
    "    plt.bar(sim_bins3[1:],sim_probs3,width=0.2)\n",
    "    # Estimation\n",
    "    para_est= UniformEst(sim_bins3,sim_probs3)\n",
    "    print(para_est)\n",
    "    UniformStats(para_est['lb'],para_est['ub']) "
   ]
  },
  {
   "cell_type": "code",
   "execution_count": 20,
   "metadata": {},
   "outputs": [
    {
     "name": "stdout",
     "output_type": "stream",
     "text": [
      "length of pos bins is > 1\n",
      "{'lb': 0.0, 'ub': 1.2}\n"
     ]
    },
    {
     "data": {
      "image/png": "[encoded data removed]",
      "text/plain": [
       "<Figure size 432x288 with 1 Axes>"
      ]
     },
     "metadata": {
      "needs_background": "light"
     },
     "output_type": "display_data"
    }
   ],
   "source": [
    "if __name__ == \"__main__\":\n",
    "    ## test 4: Uniform Dist with multiple adjacent bins with same probabilities \n",
    "    sim_bins4 = np.array([0,0.2,0.32,0.5,1,1.2])\n",
    "    sim_probs4 = np.array([1/5,1/5,1/5,1/5,1/5])\n",
    "    ## plot\n",
    "    plt.bar(sim_bins4[1:],sim_probs4,width=0.1)\n",
    "    # Estimation\n",
    "    para_est= UniformEst(sim_bins4,\n",
    "                         sim_probs4)\n",
    "    print(para_est)\n",
    "    UniformStats(para_est['lb'],\n",
    "                 para_est['ub']) "
   ]
  },
  {
   "cell_type": "code",
   "execution_count": 21,
   "metadata": {},
   "outputs": [
    {
     "name": "stdout",
     "output_type": "stream",
     "text": [
      "{'lb': nan, 'ub': nan}\n"
     ]
    },
    {
     "data": {
      "image/png": "[encoded data removed]",
      "text/plain": [
       "<Figure size 432x288 with 1 Axes>"
      ]
     },
     "metadata": {
      "needs_background": "light"
     },
     "output_type": "display_data"
    }
   ],
   "source": [
    "if __name__ == \"__main__\":\n",
    "    ## test 5: Uniform Dist with multiple non-adjacent bins with equal probabilities\n",
    "    sim_bins5 = np.array([0,0.2,0.32,0.5,1,1.2])\n",
    "    sim_probs5= np.array([0,0.5,0,0.5,0])\n",
    "    ## plot\n",
    "    plt.bar(sim_bins5[1:],sim_probs5,width=0.1)\n",
    "    # Estimation\n",
    "    para_est = UniformEst(sim_bins5,\n",
    "                         sim_probs5)\n",
    "    print(para_est)\n",
    "    UniformStats(para_est['lb'],\n",
    "                 para_est['ub']) "
   ]
  },
  {
   "cell_type": "code",
   "execution_count": 22,
   "metadata": {
    "code_folding": []
   },
   "outputs": [],
   "source": [
    "## This is the synthesized density estimation function\n",
    "def SynDensityStat(bin,probs):\n",
    "    \"\"\"\n",
    "    Synthesized density estimate module:\n",
    "    It first detects the shape of histograms\n",
    "    Then accordingly invoke the distribution-specific tool.\n",
    "    \n",
    "    parameters\n",
    "    ---------\n",
    "    bin:  ndarray, (n+1) x 1 \n",
    "          positions for n bins in the histograms \n",
    "          \n",
    "    probs:  ndarrray n x 1\n",
    "          each entry is a probability for each of the n bins given by the surveyee, between 0 and 1\n",
    "    \n",
    "    returns\n",
    "    -------\n",
    "    moments: dict with 2 keys (more to be added in future)\n",
    "            mean: empty or float, estimated mean \n",
    "            variance:  empty or float, estimated variance \n",
    "            std: empty or float, estimated standard deviation \n",
    "            irq1090: empty or float, estimated irq1090 \n",
    "    \n",
    "    \"\"\"\n",
    "    ## in case there are data entry problems where probs have nan values in certain entries \n",
    "    ## for those, replace nan with zero if at least there are positive probs somewhere else.\n",
    "    if np.any(probs>0.0):\n",
    "        ## replace it with zeros \n",
    "        probs[np.isnan(probs)] = 0.0  \n",
    "    ## then check if all probs sum up to 1 \n",
    "    if abs(sum(probs)-1)<1e-4:\n",
    "        print(\"probs sum up to 1\")\n",
    "        ## Check if all bins have the same probability (special case for which we need Uniform and not Beta distributions)\n",
    "        \n",
    "        # find non zero positions\n",
    "        pos_entry = np.argwhere(probs>0)\n",
    "        pos_probs = probs[probs>0]\n",
    "        pos_bin = [bin[i] for i in pos_entry]\n",
    "        pos_bin = np.hstack(pos_bin)   # clean    \n",
    "        \n",
    "        # special case: if all bins are equally probable\n",
    "        all_equal = np.all(pos_probs ==1/len(pos_probs))\n",
    "        print('If all prisitive bins are equally probable? ',str(all_equal))\n",
    "        \n",
    "        # special case2: if all bins are equally probable\n",
    "        open_end = np.min(pos_entry)==0 or np.max(pos_entry)==len(probs)-1\n",
    "        print('Is there open-ended bins on either side? ', str(open_end))\n",
    "\n",
    "        if len(pos_entry)>1:\n",
    "            for i in range(len(pos_entry)-1) :\n",
    "                if pos_entry[i+1] - pos_entry[i] !=1:\n",
    "                    pos_bin = [] \n",
    "                \n",
    "                \n",
    "        ## Beta distributions \n",
    "        if sum([probs[i]>0 for i in range(len(bin)-1)])>=3 and all_equal == 0:\n",
    "            print(\"at least three bins with positive probs\")\n",
    "            para_est=GeneralizedBetaEst(bin,probs)\n",
    "            if len(para_est)==4:\n",
    "                return GeneralizedBetaStats(para_est[0],para_est[1],para_est[2],para_est[3])\n",
    "        elif sum([probs[i]>0 for i in range(len(bin)-1)])==2 and open_end:\n",
    "            ## a special case using beta with only two bins but open-ended  \n",
    "            para_est=GeneralizedBetaEst(bin,probs)\n",
    "            if len(para_est)==4:\n",
    "                return GeneralizedBetaStats(para_est[0],para_est[1],para_est[2],para_est[3])\n",
    "        ## Triangle distributions\n",
    "        elif sum([probs[i]>0 for i in range(len(bin)-1)])==2 and not all_equal and not open_end:\n",
    "            #print(\"There are two bins with positive probs\")\n",
    "            pprobadj = [i for i in range(1,len(bin)-3) if probs[i]>0 and probs[i+1]>0]   # from 1 to -3 bcz excluding the open-ended on the left/right\n",
    "            if sum(pprobadj)>0:\n",
    "                #print('The two intervals are adjacent and not open-ended')\n",
    "                para_est=TriangleEst(bin,probs)\n",
    "                return TriangleStats(para_est['lb'],para_est['ub'], para_est['mode'])\n",
    "        ## Uniform distributions\n",
    "        elif sum([probs[i]>0 for i in range(len(bin)-1)])==1:\n",
    "            print('Only one interval with positive probs')\n",
    "            para_est= UniformEst(bin,probs)\n",
    "            print(para_est)\n",
    "            return UniformStats(para_est['lb'],para_est['ub'])\n",
    "        elif all_equal == 1:\n",
    "            print(\"all bins have the same prob\")\n",
    "            para_est= UniformEst(bin,probs)\n",
    "            print(para_est)\n",
    "            return UniformStats(para_est['lb'],para_est['ub'])            \n",
    "        else:\n",
    "            print('Does not fall into any given patterns')\n",
    "            return {\"mean\":np.nan,\n",
    "                    'std': np.nan,\n",
    "                    'iqr1090':np.nan,\n",
    "                     \"variance\":np.nan,\n",
    "                    \"skewness\":np.nan,\n",
    "                    \"kurtosis\":np.nan}\n",
    "    else:\n",
    "        print('probs do not sum to 1')\n",
    "        return {\"mean\":np.nan,\n",
    "                'std': np.nan,\n",
    "                'iqr1090':np.nan,\n",
    "                \"variance\":np.nan,\n",
    "                \"skewness\":np.nan,\n",
    "                \"kurtosis\":np.nan}"
   ]
  },
  {
   "cell_type": "code",
   "execution_count": 23,
   "metadata": {
    "lines_to_next_cell": 2
   },
   "outputs": [
    {
     "name": "stdout",
     "output_type": "stream",
     "text": [
      "probs sum up to 1\n",
      "If all prisitive bins are equally probable?  False\n",
      "Is there open-ended bins on either side?  False\n",
      "at least three bins with positive probs\n",
      "lower bound is 2.0\n",
      "upper bound is 3.5\n",
      "2-parameter beta\n",
      "{'mean': array(2.64055984), 'variance': array(0.13740973), 'std': 0.37068818012062416, 'iqr1090': 0.748726168168818, 'skewness': array(0.2358846), 'kurtosis': array(-0.92936217)}\n"
     ]
    },
    {
     "data": {
      "image/png": "[encoded data removed]",
      "text/plain": [
       "<Figure size 432x288 with 1 Axes>"
      ]
     },
     "metadata": {
      "needs_background": "light"
     },
     "output_type": "display_data"
    }
   ],
   "source": [
    "if __name__ == \"__main__\":\n",
    "    \n",
    "    ## test 1 \n",
    "    ## plot\n",
    "    plt.bar(sim_bins[1:],sim_probs,width=0.2)\n",
    "    ## estimate\n",
    "    para_est = SynDensityStat(sim_bins,sim_probs)\n",
    "    print(para_est)"
   ]
  },
  {
   "cell_type": "code",
   "execution_count": 35,
   "metadata": {},
   "outputs": [
    {
     "name": "stdout",
     "output_type": "stream",
     "text": [
      "probs sum up to 1\n",
      "If all prisitive bins are equally probable?  False\n",
      "Is there open-ended bins on either side?  False\n",
      "There are two bins with positive probs\n",
      "The two intervals are adjacent and not open-ended\n",
      "{'mean': 0.25513167019494865, 'variance': 0.009993416490252567, 'std': 0.09996707703165361, 'iqr1090': 0.3597509801816764, 'skewness': 0, 'kurtosis': -0.6}\n"
     ]
    },
    {
     "data": {
      "image/png": "[encoded data removed]",
      "text/plain": [
       "<Figure size 432x288 with 1 Axes>"
      ]
     },
     "metadata": {
      "needs_background": "light"
     },
     "output_type": "display_data"
    }
   ],
   "source": [
    "if __name__ == \"__main__\":\n",
    "    ## test 2\n",
    "    ## plot\n",
    "    plt.bar(sim_bins2[1:],sim_probs2,width=0.2)\n",
    "    ## estimate\n",
    "    para_est = SynDensityStat(sim_bins2,sim_probs2)\n",
    "    print(para_est)"
   ]
  },
  {
   "cell_type": "code",
   "execution_count": 36,
   "metadata": {},
   "outputs": [
    {
     "name": "stdout",
     "output_type": "stream",
     "text": [
      "probs sum up to 1\n",
      "If all prisitive bins are equally probable?  True\n",
      "Is there open-ended bins on either side?  False\n",
      "Only one interval with positive probs\n",
      "length pos bins is 1\n",
      "{'lb': 0.32, 'ub': 0.5}\n",
      "{'mean': 0.41000000000000003, 'variance': 0.0026999999999999997, 'std': 0.05196152422706632, 'iqr1090': 0.14399999999999996, 'skewness': 0, 'kurtosis': -0.8333333333333334}\n"
     ]
    },
    {
     "data": {
      "image/png": "[encoded data removed]",
      "text/plain": [
       "<Figure size 432x288 with 1 Axes>"
      ]
     },
     "metadata": {
      "needs_background": "light"
     },
     "output_type": "display_data"
    }
   ],
   "source": [
    "if __name__ == \"__main__\":\n",
    "    ## test 3\n",
    "    ## plot\n",
    "    plt.bar(sim_bins3[1:],sim_probs3,width=0.2)\n",
    "    ## estimate\n",
    "    para_est = SynDensityStat(sim_bins3,sim_probs3)\n",
    "    print(para_est)"
   ]
  },
  {
   "cell_type": "code",
   "execution_count": 37,
   "metadata": {},
   "outputs": [
    {
     "name": "stdout",
     "output_type": "stream",
     "text": [
      "probs sum up to 1\n",
      "If all prisitive bins are equally probable?  True\n",
      "Is there open-ended bins on either side?  True\n",
      "all bins have the same prob\n",
      "length of pos bins is > 1\n",
      "{'lb': 0.0, 'ub': 1.2}\n",
      "{'mean': 0.6, 'variance': 0.12, 'std': 0.34641016151377546, 'iqr1090': nan, 'skewness': 0, 'kurtosis': -0.8333333333333334}\n"
     ]
    },
    {
     "data": {
      "image/png": "[encoded data removed]",
      "text/plain": [
       "<Figure size 432x288 with 1 Axes>"
      ]
     },
     "metadata": {
      "needs_background": "light"
     },
     "output_type": "display_data"
    }
   ],
   "source": [
    "if __name__ == \"__main__\":\n",
    "    ## test 4\n",
    "    ## plot\n",
    "    plt.bar(sim_bins4[1:],sim_probs4,width=0.2)\n",
    "    ## estimate\n",
    "    para_est = SynDensityStat(sim_bins4,sim_probs4)\n",
    "    print(para_est)"
   ]
  },
  {
   "cell_type": "code",
   "execution_count": 38,
   "metadata": {},
   "outputs": [
    {
     "name": "stdout",
     "output_type": "stream",
     "text": [
      "probs sum up to 1\n",
      "If all prisitive bins are equally probable?  True\n",
      "Is there open-ended bins on either side?  False\n",
      "all bins have the same prob\n",
      "{'lb': nan, 'ub': nan}\n",
      "{'mean': nan, 'variance': nan, 'std': nan, 'iqr1090': nan, 'skewness': nan, 'kurtosis': nan}\n"
     ]
    },
    {
     "data": {
      "image/png": "[encoded data removed]",
      "text/plain": [
       "<Figure size 432x288 with 1 Axes>"
      ]
     },
     "metadata": {
      "needs_background": "light"
     },
     "output_type": "display_data"
    }
   ],
   "source": [
    "if __name__ == \"__main__\":\n",
    "    ## test 5\n",
    "    ## plot\n",
    "    plt.bar(sim_bins5[1:],sim_probs5,width=0.2)\n",
    "    ## estimate\n",
    "    para_est = SynDensityStat(sim_bins5,sim_probs5)\n",
    "    print(para_est)"
   ]
  }
 ],
 "metadata": {
  "jupytext": {
   "formats": "ipynb,py:light"
  },
  "kernelspec": {
   "display_name": "Python 3 (ipykernel)",
   "language": "python",
   "name": "python3"
  },
  "language_info": {
   "codemirror_mode": {
    "name": "ipython",
    "version": 3
   },
   "file_extension": ".py",
   "mimetype": "text/x-python",
   "name": "python",
   "nbconvert_exporter": "python",
   "pygments_lexer": "ipython3",
   "version": "3.8.13"
  }
 },
 "nbformat": 4,
 "nbformat_minor": 2
}
